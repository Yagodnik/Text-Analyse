{
 "cells": [
  {
   "cell_type": "code",
   "execution_count": 1,
   "metadata": {},
   "outputs": [],
   "source": [
    "try:\n",
    "    file = open(\"text_e.txt\", mode=\"r\", encoding=\"utf-8\")\n",
    "    \n",
    "    content = file.read()\n",
    "except:\n",
    "    print(\"Cant open file!\")\n",
    "\n",
    "file.close()"
   ]
  },
  {
   "cell_type": "code",
   "execution_count": 2,
   "metadata": {},
   "outputs": [],
   "source": [
    "data = content.split(\",\")"
   ]
  },
  {
   "cell_type": "code",
   "execution_count": 6,
   "metadata": {},
   "outputs": [],
   "source": [
    "class Symbol:\n",
    "    def __init__(self):\n",
    "        self.char = \"\"\n",
    "        self.count = 0\n",
    "\n",
    "def contain_symbol(arr, char):\n",
    "    for j in range(len(arr)):\n",
    "        symbol = arr[j]\n",
    "\n",
    "        if symbol.char == char:\n",
    "            return j\n",
    "\n",
    "    return -1\n"
   ]
  },
  {
   "cell_type": "code",
   "execution_count": 11,
   "metadata": {},
   "outputs": [],
   "source": [
    "symbols = []\n",
    "\n",
    "for i in range(len(data)):\n",
    "    char = data[i]\n",
    "\n",
    "    index = contain_symbol(symbols, char)\n",
    "    if index > -1:\n",
    "        symbols[index].count += 1\n",
    "    else:\n",
    "        symbol = Symbol()\n",
    "        symbol.char = char\n",
    "        symbol.count = 1\n",
    "\n",
    "        symbols.append(symbol)\n",
    "\n",
    "symbols = sorted(symbols, key=lambda x: x.count, reverse=True)"
   ]
  },
  {
   "cell_type": "code",
   "execution_count": 12,
   "metadata": {},
   "outputs": [],
   "source": [
    "import matplotlib.pyplot as plt"
   ]
  },
  {
   "cell_type": "code",
   "execution_count": 14,
   "metadata": {},
   "outputs": [
    {
     "data": {
      "image/png": "[encoded data removed]",
      "text/plain": [
       "<Figure size 432x288 with 1 Axes>"
      ]
     },
     "metadata": {
      "needs_background": "light"
     },
     "output_type": "display_data"
    }
   ],
   "source": [
    "fig, ax = plt.subplots(1,1)\n",
    "total_count = len(data)\n",
    "\n",
    "data = [[] for i in range(len(symbols))]\n",
    "\n",
    "for i in range(len(symbols)):\n",
    "    freq = symbols[i].count / total_count\n",
    "    data[i] = [symbols[i].char, symbols[i].count, f'{freq:0.3f}']\n",
    "\n",
    "column_labels=[\"Symbols\", \"Count\", \"Freq\"]\n",
    "ax.axis('tight')\n",
    "ax.axis('off')\n",
    "ax.table(cellText=data, colLabels=column_labels, loc=\"center\")\n",
    "\n",
    "plt.show()"
   ]
  }
 ],
 "metadata": {
  "interpreter": {
   "hash": "0835109c1f38a78c2d114699ef780fcaa408d2c429de94f7e004fc761e714511"
  },
  "kernelspec": {
   "display_name": "Python 3.9.0 64-bit",
   "language": "python",
   "name": "python3"
  },
  "language_info": {
   "codemirror_mode": {
    "name": "ipython",
    "version": 3
   },
   "file_extension": ".py",
   "mimetype": "text/x-python",
   "name": "python",
   "nbconvert_exporter": "python",
   "pygments_lexer": "ipython3",
   "version": "3.9.0"
  },
  "orig_nbformat": 4
 },
 "nbformat": 4,
 "nbformat_minor": 2
}
